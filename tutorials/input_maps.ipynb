{
 "cells": [
  {
   "cell_type": "code",
   "execution_count": 1,
   "metadata": {},
   "outputs": [],
   "source": [
    "import sys\n",
    "\n",
    "sys.path.append('/home/rebeccac/scratch/H_GASP')\n",
    "\n",
    "from H_GASP import input_maps as im\n",
    "\n",
    "%load_ext autoreload\n",
    "%autoreload 2"
   ]
  },
  {
   "cell_type": "markdown",
   "metadata": {},
   "source": [
    "# HI galaxies from catalog\n",
    "\n",
    "Using input_maps in this way creates a healpix map with HI galaxi profiles injected at each pixel. The path to the HI catalog needs to be specified.\n",
    "- Note: If you are going to up-channelize them, it is better to have a larger nfreq so that the shapes are not lost.\n",
    "\n",
    "\n",
    "- Note: If you are only interested in the HI galaxies and will be up-channelizing their profiles later, you may skip the creation of input maps as there is a method in observations.Upchannelization that creates the up-channelized map straight from the catalog file. This will save space and make sure the number of samples of each profile is sufficient to capture the shape before up-channelizing. "
   ]
  },
  {
   "cell_type": "code",
   "execution_count": 20,
   "metadata": {},
   "outputs": [],
   "source": [
    "f_start = 1410\n",
    "f_end = 1402\n",
    "nfreq = 100\n",
    "nside = 16\n",
    "output_directory = './products/'\n",
    "catalog_filepath = '/home/rebeccac/scratch/H_GASP/resources/HIMF_dec45_VolLim_10000.txt'\n"
   ]
  },
  {
   "cell_type": "markdown",
   "metadata": {},
   "source": [
    "- You can choose to add only a specific number of galaxies (for example 3 in this case) instead of the entire catalog. \n",
    "- In this case, you may also choose to change their location compared to what was specified in the catalog by feeding in lists for RA and Dec values in degrees. These must have the same size and be the same as ngals.\n",
    "- If you also want to specify the peak brightness (K) of the galaxies and only keep their profile shapes form the original catalog, you can do so by feeding in a list for T_brightness that must also be the same size as ngals.\n",
    "- If a certain number of galaxies is chosen, their shapes, original locations and brightnesses, are randomly selected from the catalog. You can set a seed to ensure you can reproduce your results. "
   ]
  },
  {
   "cell_type": "code",
   "execution_count": 21,
   "metadata": {},
   "outputs": [
    {
     "name": "stdout",
     "output_type": "stream",
     "text": [
      "Generating spectra for 3 galaxies.\n"
     ]
    }
   ],
   "source": [
    "# choosing the number, location, and peak brightness of galaxies\n",
    "output_filename = 'HI_gals_3.h5'\n",
    "ngals = 3\n",
    "hi_gals3 = im.HIGalaxies(catalog_filepath, f_start, f_end, nfreq)\n",
    "hi_gals3.get_map(nside, \n",
    "                 output_directory,\n",
    "                 output_filename, \n",
    "                 ngals=ngals, \n",
    "                 seed=471, \n",
    "                 T_brightness=[2, 2, 2],\n",
    "                 ras=[180,200,220],\n",
    "                 decs=[45,47,49])"
   ]
  },
  {
   "cell_type": "markdown",
   "metadata": {},
   "source": [
    "- This is an example of creating a map with the entire catalog, no additional parameters are required."
   ]
  },
  {
   "cell_type": "code",
   "execution_count": 4,
   "metadata": {},
   "outputs": [
    {
     "name": "stdout",
     "output_type": "stream",
     "text": [
      "Generating spectra for 10000 galaxies.\n"
     ]
    }
   ],
   "source": [
    "# injecting full catalog as it comes\n",
    "output_filename = 'HI_gals_all.h5'\n",
    "hi_gals = im.HIGalaxies(catalog_filepath, f_start, f_end, nfreq)\n",
    "hi_gals.get_map(nside, \n",
    "                 output_directory,\n",
    "                 output_filename)"
   ]
  },
  {
   "cell_type": "markdown",
   "metadata": {},
   "source": [
    "# Synthesized beam\n",
    "\n",
    "If you want to simulate a synthesized beam, you can use this class to create an input map with a single source at a given location and a chosen brightness. The minimum number of frequencies to be able to feed it through the pipeline is 2."
   ]
  },
  {
   "cell_type": "code",
   "execution_count": 5,
   "metadata": {},
   "outputs": [],
   "source": [
    "f_start = 1420\n",
    "f_end = 1419\n",
    "nfreq = 2\n",
    "\n",
    "nside = 16\n",
    "ra = 180\n",
    "dec = 45\n",
    "\n",
    "output_directory = './products/'\n",
    "\n",
    "synth_beam = im.SynthesizedBeam(f_start, f_end, nfreq)\n",
    "\n",
    "synth_beam.get_map(nside, ra, dec, output_directory)"
   ]
  },
  {
   "cell_type": "markdown",
   "metadata": {},
   "source": [
    "# Foregrounds\n",
    "\n",
    "- This class helps streamline the simulation of maps of other sky components done through cora-makesky. \n",
    "- List the names of the components you want to simulate in the components list and it will do it automatically.\n",
    "- It will also save a map containing the sum of all the requested components in the output directory called foregrounds_all.h5."
   ]
  },
  {
   "cell_type": "code",
   "execution_count": 6,
   "metadata": {},
   "outputs": [
    {
     "name": "stdout",
     "output_type": "stream",
     "text": [
      "Loading data for galaxy simulation.\n",
      "SHTing to give random maps\n",
      "Applying phi weighting\n",
      "Transforming to freq\n",
      "Rescaling freq\n",
      "Scaling by T\n",
      "Rotating\n",
      "Loading data for galaxy simulation.\n",
      "SHTing to give random maps\n",
      "Applying phi weighting\n",
      "Transforming to freq\n",
      "Rescaling freq\n",
      "Scaling by T\n",
      "Rotating\n"
     ]
    }
   ],
   "source": [
    "f_start = 1420\n",
    "f_end = 1419\n",
    "nfreq = 4\n",
    "\n",
    "nside = 64\n",
    "output_directory = './products/'\n",
    "components = ['21cm', 'galaxy', 'pointsource', 'foreground']\n",
    "\n",
    "fg = im.Foregrounds(f_start, f_end, nfreq, nside, output_directory)\n",
    "fg.get_maps(components)"
   ]
  },
  {
   "cell_type": "code",
   "execution_count": null,
   "metadata": {},
   "outputs": [],
   "source": []
  }
 ],
 "metadata": {
  "kernelspec": {
   "display_name": "Python 3 (ipykernel)",
   "language": "python",
   "name": "python3"
  },
  "language_info": {
   "codemirror_mode": {
    "name": "ipython",
    "version": 3
   },
   "file_extension": ".py",
   "mimetype": "text/x-python",
   "name": "python",
   "nbconvert_exporter": "python",
   "pygments_lexer": "ipython3",
   "version": "3.10.2"
  }
 },
 "nbformat": 4,
 "nbformat_minor": 2
}
